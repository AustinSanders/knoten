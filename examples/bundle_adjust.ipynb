{
 "cells": [
  {
   "cell_type": "code",
   "execution_count": 1,
   "metadata": {},
   "outputs": [
    {
     "name": "stderr",
     "output_type": "stream",
     "text": [
      "/home/arsanders/miniconda3/envs/knoten/lib/python3.7/site-packages/ale/__init__.py:22: UserWarning: ALESPICEROOT environment variable not set, Spice Drivers will not function correctly\n",
      "  warnings.warn('ALESPICEROOT environment variable not set, Spice Drivers will not function correctly')\n"
     ]
    }
   ],
   "source": [
    "from plio.io import io_controlnetwork\n",
    "from knoten.csm import create_csm\n",
    "import ale\n",
    "import csmapi\n",
    "import os\n",
    "from itertools import product"
   ]
  },
  {
   "cell_type": "code",
   "execution_count": 2,
   "metadata": {},
   "outputs": [],
   "source": [
    "os.environ[\"ISISROOT\"] = \"/usgs/pkgs/isis3.7.0/install\"\n",
    "os.environ[\"ISIS3DATA\"] = \"/usgs/cpkgs/isis3/data\"\n",
    "import pysis\n",
    "from pysis import isis"
   ]
  },
  {
   "cell_type": "code",
   "execution_count": 3,
   "metadata": {},
   "outputs": [],
   "source": [
    "df = io_controlnetwork.from_isis('data/hand_dense.net')"
   ]
  },
  {
   "cell_type": "code",
   "execution_count": 11,
   "metadata": {},
   "outputs": [
    {
     "data": {
      "text/plain": [
       "Index(['id', 'pointType', 'pointChoosername', 'pointDatetime', 'pointEditLock',\n",
       "       'pointIgnore', 'pointJigsawRejected', 'referenceIndex',\n",
       "       'aprioriSurfPointSource', 'aprioriSurfPointSourceFile',\n",
       "       'aprioriRadiusSource', 'aprioriRadiusSourceFile', 'latitudeConstrained',\n",
       "       'longitudeConstrained', 'radiusConstrained', 'aprioriX', 'aprioriY',\n",
       "       'aprioriZ', 'aprioriCovar', 'adjustedX', 'adjustedY', 'adjustedZ',\n",
       "       'adjustedCovar', 'pointLog', 'serialnumber', 'measureType', 'sample',\n",
       "       'line', 'sampleResidual', 'lineResidual', 'measureChoosername',\n",
       "       'measureDatetime', 'measureEditLock', 'measureIgnore',\n",
       "       'measureJigsawRejected', 'diameter', 'apriorisample', 'aprioriline',\n",
       "       'samplesigma', 'linesigma', 'measureLog'],\n",
       "      dtype='object')"
      ]
     },
     "execution_count": 11,
     "metadata": {},
     "output_type": "execute_result"
    }
   ],
   "source": [
    "df"
   ]
  },
  {
   "cell_type": "code",
   "execution_count": 5,
   "metadata": {},
   "outputs": [],
   "source": [
    "isd_files = []\n",
    "sensors = {}\n",
    "for line in open('data/cubes.lis'):\n",
    "    basename = os.path.splitext(os.path.basename(line.strip()))[0]\n",
    "    isd = os.path.join('data',basename+'.json')\n",
    "    isd_files.append(isd)\n",
    "    with open(isd, 'w+') as f:\n",
    "        f.write(ale.loads(line.strip(), formatter='usgscsm'))\n",
    "        \n",
    "    sn = isis.getsn(from_=line.strip()).strip().decode('utf-8')\n",
    "    sensors[sn] = create_csm(isd)\n"
   ]
  },
  {
   "cell_type": "code",
   "execution_count": 9,
   "metadata": {},
   "outputs": [],
   "source": [
    "def computeSensorPartials(sensors, control_network):\n",
    "    partials = []\n",
    "    ground_points = [csmapi.EcefCoord(x, y, z) for \n",
    "                     x, y, z in zip(control_network['adjustedX'],\n",
    "                                    control_network['adjustedY'],\n",
    "                                    control_network['adjustedZ'])]\n",
    "\n",
    "    partials.append([sensor.computeSensorPartials(p_idx, gp) for \n",
    "                     p_idx, gp in product(range(sensor.getNumParameters()), ground_points)])\n",
    "    return partials\n",
    "        \n",
    "def computeGroundPartials(sensors, control_network):\n",
    "    partials = []\n",
    "    for sn, sensor in sensors.items():\n",
    "        ground_points = [csmapi.EcefCoord(x, y, z) for \n",
    "                            x, y, z in zip(control_network['adjustedX'],\n",
    "                                            control_network['adjustedY'],\n",
    "                                            control_network['adjustedZ'])]\n",
    "        \n",
    "        partials.append([sensor.computeGroundPartials(gp) for \n",
    "                         gp in ground_points])\n",
    "    return partials"
   ]
  },
  {
   "cell_type": "code",
   "execution_count": 10,
   "metadata": {},
   "outputs": [
    {
     "name": "stdout",
     "output_type": "stream",
     "text": [
      "4\n",
      "2080\n",
      "<Swig Object of type 'std::pair< double,double > *' at 0x7fc83da73450>\n",
      "4\n",
      "130\n",
      "<Swig Object of type 'std::vector< double > *' at 0x7fc83da52360>\n"
     ]
    }
   ],
   "source": [
    "sensor_partials = computeSensorPartials(sensors, df)\n",
    "print(len(sensor_partials))\n",
    "print(len(sensor_partials[0]))\n",
    "print(sensor_partials[0][0])\n",
    "\n",
    "ground_partials = computeGroundPartials(sensors, df)\n",
    "print(len(ground_partials))\n",
    "print(len(ground_partials[0]))\n",
    "print(ground_partials[0][0])"
   ]
  },
  {
   "cell_type": "code",
   "execution_count": null,
   "metadata": {},
   "outputs": [],
   "source": [
    "def computeSensorPartials(sensors, control_network):\n",
    "    partials = []\n",
    "    for sn, sensor in sensors.items():\n",
    "        ground_points = [csmapi.EcefCoord(x, y, z) for \n",
    "                         x, y, z in zip(control_network['adjustedX'],\n",
    "                                        control_network['adjustedY'],\n",
    "                                        control_network['adjustedZ'])]\n",
    "        \n",
    "        partials.append([sensor.computeSensorPartials(p_idx, gp) for \n",
    "                         p_idx, gp in product(range(sensor.getNumParameters()), ground_points)])\n",
    "    return partials\n",
    "        \n",
    "def computeGroundPartials(sensors, control_network):\n",
    "    partials = []\n",
    "    for sn, sensor in sensors.items():\n",
    "        ground_points = [csmapi.EcefCoord(x, y, z) for \n",
    "                            x, y, z in zip(control_network['adjustedX'],\n",
    "                                            control_network['adjustedY'],\n",
    "                                            control_network['adjustedZ'])]\n",
    "        \n",
    "        partials.append([sensor.computeGroundPartials(gp) for \n",
    "                         gp in ground_points])\n",
    "    return partials"
   ]
  }
 ],
 "metadata": {
  "kernelspec": {
   "display_name": "Python 3",
   "language": "python",
   "name": "python3"
  },
  "language_info": {
   "codemirror_mode": {
    "name": "ipython",
    "version": 3
   },
   "file_extension": ".py",
   "mimetype": "text/x-python",
   "name": "python",
   "nbconvert_exporter": "python",
   "pygments_lexer": "ipython3",
   "version": "3.7.6"
  }
 },
 "nbformat": 4,
 "nbformat_minor": 4
}
