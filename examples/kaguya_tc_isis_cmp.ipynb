{
 "cells": [
  {
   "cell_type": "markdown",
   "metadata": {},
   "source": [
    "# Comparing a USGSCSM and ISIS camera for Kaguya Terrain Camera"
   ]
  },
  {
   "cell_type": "code",
   "execution_count": 1,
   "metadata": {},
   "outputs": [
    {
     "ename": "ModuleNotFoundError",
     "evalue": "No module named 'ale'",
     "output_type": "error",
     "traceback": [
      "\u001b[0;31m---------------------------------------------------------------------------\u001b[0m",
      "\u001b[0;31mModuleNotFoundError\u001b[0m                       Traceback (most recent call last)",
      "\u001b[0;32m<ipython-input-1-b344f074b35e>\u001b[0m in \u001b[0;36m<module>\u001b[0;34m\u001b[0m\n\u001b[1;32m      7\u001b[0m \u001b[0mos\u001b[0m\u001b[0;34m.\u001b[0m\u001b[0menviron\u001b[0m\u001b[0;34m[\u001b[0m\u001b[0;34m'ISISROOT'\u001b[0m\u001b[0;34m]\u001b[0m \u001b[0;34m=\u001b[0m \u001b[0;34m'/usgs/pkgs/isis3.8.0_RC1/install'\u001b[0m\u001b[0;34m\u001b[0m\u001b[0;34m\u001b[0m\u001b[0m\n\u001b[1;32m      8\u001b[0m \u001b[0;32mimport\u001b[0m \u001b[0mknoten\u001b[0m\u001b[0;34m\u001b[0m\u001b[0;34m\u001b[0m\u001b[0m\n\u001b[0;32m----> 9\u001b[0;31m \u001b[0;32mimport\u001b[0m \u001b[0male\u001b[0m\u001b[0;34m\u001b[0m\u001b[0;34m\u001b[0m\u001b[0m\n\u001b[0m\u001b[1;32m     10\u001b[0m \u001b[0;32mfrom\u001b[0m \u001b[0mknoten\u001b[0m \u001b[0;32mimport\u001b[0m \u001b[0mvis\u001b[0m\u001b[0;34m\u001b[0m\u001b[0;34m\u001b[0m\u001b[0m\n\u001b[1;32m     11\u001b[0m \u001b[0;32mfrom\u001b[0m \u001b[0male\u001b[0m\u001b[0;34m.\u001b[0m\u001b[0mdrivers\u001b[0m\u001b[0;34m.\u001b[0m\u001b[0mkaguya_drivers\u001b[0m \u001b[0;32mimport\u001b[0m \u001b[0mKaguyaTcPds3NaifSpiceDriver\u001b[0m\u001b[0;34m\u001b[0m\u001b[0;34m\u001b[0m\u001b[0m\n",
      "\u001b[0;31mModuleNotFoundError\u001b[0m: No module named 'ale'"
     ]
    }
   ],
   "source": [
    "import pvl\n",
    "import os\n",
    "import tempfile\n",
    "import csmapi\n",
    "import json\n",
    "\n",
    "os.environ['ISISROOT'] = '/usgs/pkgs/isis3.8.0_RC1/install'\n",
    "import knoten\n",
    "import ale\n",
    "from knoten import vis\n",
    "from ale.drivers.kaguya_drivers import KaguyaTcPds3NaifSpiceDriver\n",
    "from ale.formatters.usgscsm_formatter import to_usgscsm\n",
    "from ale import util\n",
    "from IPython.display import Image\n",
    "from pysis import isis\n",
    "from pysis.exceptions import ProcessError\n",
    "\n",
    "import plotly\n",
    "plotly.offline.init_notebook_mode(connected=True)"
   ]
  },
  {
   "cell_type": "markdown",
   "metadata": {},
   "source": [
    "## Make a CSM sensor model\n",
    "Requires TC1S2B0_01_02842S506E1942.img in data directory"
   ]
  },
  {
   "cell_type": "code",
   "execution_count": null,
   "metadata": {},
   "outputs": [],
   "source": [
    "fileName = 'data/TC1S2B0_01_02842S506E1942.img'\n",
    "camera = knoten.csm.create_csm(fileName)"
   ]
  },
  {
   "cell_type": "markdown",
   "metadata": {},
   "source": [
    "## Ingest the image and spiceinit"
   ]
  },
  {
   "cell_type": "code",
   "execution_count": null,
   "metadata": {},
   "outputs": [],
   "source": [
    "cub_loc = os.path.splitext(fileName)[0] + '.cub'\n",
    "\n",
    "try: \n",
    "    isis.kaguyatc2isis(from_=fileName, to=cub_loc)\n",
    "except ProcessError as e:\n",
    "    print(e.stderr)\n",
    "\n",
    "try:\n",
    "    isis.spiceinit(from_=cub_loc, shape='ellipsoid')#, iak='/home/arsanders/testData/kaguyaTcAddendum007.ti')\n",
    "except ProcessError as e:\n",
    "    print(e.stderr)\n",
    "\n",
    "img_label = pvl.load(cub_loc)\n",
    "year = img_label['IsisCube']['Instrument']['StartTime'].year\n",
    "with tempfile.NamedTemporaryFile(\"r+\") as metakernel:\n",
    "    metakernel_path = os.path.split(metakernel.name)[0]\n",
    "    metakernel.name = metakernel_path + '/kaguya{}.tm'.format(year)\n",
    "    util.write_metakernel_from_cube(cub_loc, metakernel.name)\n",
    "\n",
    "    ale.config['kaguya'] = metakernel_path\n",
    "    with KaguyaTcPds3NaifSpiceDriver(fileName) as driver:\n",
    "        usgscsmString = to_usgscsm(driver)\n",
    "        usgscsm_dict = json.loads(usgscsmString)\n",
    "\n",
    "        csm_isd = os.path.splitext(fileName)[0] + '.json'\n",
    "        json.dump(usgscsm_dict, open(csm_isd, 'w'))"
   ]
  },
  {
   "cell_type": "markdown",
   "metadata": {},
   "source": [
    "## Compare USGS CSM and ISIS pixels"
   ]
  },
  {
   "cell_type": "code",
   "execution_count": null,
   "metadata": {},
   "outputs": [],
   "source": [
    "csmisis_diff_lv_plot, csmisis_diff_ephem_plot, external_orientation_data = vis.external_orientation_diff(csm_isd, cub_loc, 10, 50, 600, 600)"
   ]
  },
  {
   "cell_type": "code",
   "execution_count": null,
   "metadata": {},
   "outputs": [],
   "source": [
    "csmisis_diff_lv_plot"
   ]
  },
  {
   "cell_type": "code",
   "execution_count": null,
   "metadata": {},
   "outputs": [],
   "source": [
    "csmisis_diff_ephem_plot"
   ]
  },
  {
   "cell_type": "code",
   "execution_count": null,
   "metadata": {},
   "outputs": [],
   "source": [
    "csmisis_diff_lv_plot_bytes = csmisis_diff_lv_plot.to_image(format=\"png\")\n",
    "csmisis_diff_ephem_plot_bytes = csmisis_diff_ephem_plot.to_image(format=\"png\")\n",
    "Image(csmisis_diff_lv_plot_bytes)"
   ]
  },
  {
   "cell_type": "code",
   "execution_count": null,
   "metadata": {},
   "outputs": [],
   "source": [
    "Image(csmisis_diff_ephem_plot_bytes)"
   ]
  },
  {
   "cell_type": "code",
   "execution_count": null,
   "metadata": {},
   "outputs": [],
   "source": [
    "external_orientation_data[['diffx', 'diffy', 'diffz', 'diffu', 'diffv', 'diffw']].describe()"
   ]
  },
  {
   "cell_type": "code",
   "execution_count": null,
   "metadata": {},
   "outputs": [],
   "source": [
    "isis2csm_plot, csm2isis_plot, isiscsm_plotlatlon, isiscsm_plotbf, isis2csm_data, csm2isis_data, isiscsm_latlondata, isiscsm_bfdata = vis.reprojection_diff(csm_isd, cub_loc, 10, 50, 500, 500)"
   ]
  },
  {
   "cell_type": "code",
   "execution_count": null,
   "metadata": {
    "scrolled": true
   },
   "outputs": [],
   "source": [
    "Image(isis2csm_plot.to_image())"
   ]
  },
  {
   "cell_type": "code",
   "execution_count": null,
   "metadata": {},
   "outputs": [],
   "source": [
    "isis2csm_data[['diff line', 'diff sample']].describe()"
   ]
  },
  {
   "cell_type": "code",
   "execution_count": null,
   "metadata": {},
   "outputs": [],
   "source": [
    "Image(csm2isis_plot.to_image())"
   ]
  },
  {
   "cell_type": "code",
   "execution_count": null,
   "metadata": {},
   "outputs": [],
   "source": [
    "csm2isis_data[['diff line', 'diff sample']].describe()"
   ]
  },
  {
   "cell_type": "code",
   "execution_count": null,
   "metadata": {},
   "outputs": [],
   "source": [
    "Image(isiscsm_plotlatlon.to_image())"
   ]
  },
  {
   "cell_type": "code",
   "execution_count": null,
   "metadata": {},
   "outputs": [],
   "source": [
    "Image(isiscsm_plotbf.to_image())"
   ]
  },
  {
   "cell_type": "code",
   "execution_count": null,
   "metadata": {},
   "outputs": [],
   "source": [
    "isiscsm_bfdata[['diffx', 'diffy', 'diffz']].describe()"
   ]
  },
  {
   "cell_type": "code",
   "execution_count": null,
   "metadata": {},
   "outputs": [],
   "source": []
  }
 ],
 "metadata": {
  "kernelspec": {
   "display_name": "Python 3",
   "language": "python",
   "name": "python3"
  },
  "language_info": {
   "codemirror_mode": {
    "name": "ipython",
    "version": 3
   },
   "file_extension": ".py",
   "mimetype": "text/x-python",
   "name": "python",
   "nbconvert_exporter": "python",
   "pygments_lexer": "ipython3",
   "version": "3.7.3"
  }
 },
 "nbformat": 4,
 "nbformat_minor": 2
}
