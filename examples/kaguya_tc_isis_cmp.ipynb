{
 "cells": [
  {
   "cell_type": "markdown",
   "metadata": {},
   "source": [
    "# Writing out a USGSCSM ISD from a PDS3 Kaguya image"
   ]
  },
  {
   "cell_type": "code",
   "execution_count": 1,
   "metadata": {},
   "outputs": [],
   "source": [
    "import pvl\n",
    "import numpy as np\n",
    "import json\n",
    "import os\n",
    "import pandas as pd\n",
    "import knoten\n",
    "import csmapi\n",
    "import ale\n",
    "from ale.drivers.kaguya_drivers import KaguyaTcPds3NaifSpiceDriver\n",
    "from ale.formatters.usgscsm_formatter import to_usgscsm\n",
    "\n",
    "os.environ['ISISROOT'] = '/usgs/pkgs/isis3.8.0_RC1/install'\n",
    "from pysis import isis\n",
    "from pysis.exceptions import ProcessError"
   ]
  },
  {
   "cell_type": "code",
   "execution_count": 2,
   "metadata": {},
   "outputs": [],
   "source": [
    "fileName = '/home/arsanders/testData/TC1S2B0_01_02842S506E1942.img'\n",
    "\n",
    "model=\"USGS_ASTRO_LINE_SCANNER_SENSOR_MODEL\"\n",
    "plugin = csmapi.Plugin.getList()[0]\n",
    "isd = csmapi.Isd(fileName)\n",
    "\n",
    "warns = csmapi.WarningList()\n",
    "if plugin.canModelBeConstructedFromISD(isd, model, warns):\n",
    "    camera = plugin.constructModelFromISD(isd, model)\n",
    "else:\n",
    "    print(\"Unable to construct camera model.\")\n",
    "    for item in warns:\n",
    "        print(item.getMessage())"
   ]
  },
  {
   "cell_type": "code",
   "execution_count": 3,
   "metadata": {},
   "outputs": [],
   "source": [
    "# Set the output location of the resulting .cub\n",
    "cub_loc = '/home/arsanders/usgscsm/tests/data/TC1S2B0_01_02842S506E1942.cub'\n",
    "\n",
    "try: \n",
    "    isis.kaguyatc2isis(from_=fileName, to=cub_loc)\n",
    "except ProcessError as e:\n",
    "    print(e.stderr)"
   ]
  },
  {
   "cell_type": "code",
   "execution_count": 4,
   "metadata": {},
   "outputs": [],
   "source": [
    "try:\n",
    "    isis.spiceinit(from_=cub_loc, shape='ellipsoid')\n",
    "except ProcessError as e:\n",
    "    print(e.stderr)"
   ]
  },
  {
   "cell_type": "code",
   "execution_count": 13,
   "metadata": {},
   "outputs": [],
   "source": [
    "def check_pixel(camera, cub, line, sample):\n",
    "    output = isis.campt(from_=cub, line=line, sample=sample)\n",
    "    pvl_output = pvl.loads(output)\n",
    "    bodyfixed = pvl_output['GroundPoint']['BodyFixedCoordinate']\n",
    "    bodyfixed = np.asarray(bodyfixed.value) * 1000\n",
    "    image_coord = camera.groundToImage(csmapi.EcefCoord(*bodyfixed))\n",
    "    line_diff = pvl_output['GroundPoint']['Line'] - image_coord.line - .5\n",
    "    sample_diff = pvl_output['GroundPoint']['Sample'] - image_coord.samp - .5\n",
    "    return (line_diff, sample_diff)"
   ]
  },
  {
   "cell_type": "code",
   "execution_count": 14,
   "metadata": {},
   "outputs": [],
   "source": [
    "isis_label = pvl.load(cub_loc)\n",
    "n_samples = isis_label['IsisCube']['Core']['Dimensions']['Samples']\n",
    "n_lines = isis_label['IsisCube']['Core']['Dimensions']['Lines']"
   ]
  },
  {
   "cell_type": "code",
   "execution_count": 15,
   "metadata": {},
   "outputs": [],
   "source": [
    "pixels_dict = {'line' : [1,1,n_lines, n_lines, n_lines/2],\n",
    "               'sample' : [1, n_samples, 1, n_samples, n_samples/2]}\n",
    "\n",
    "pixels_df = pd.DataFrame.from_dict(pixels_dict)\n",
    "pixels_df['line_diff'] = np.NaN\n",
    "pixels_df['sample_diff'] = np.NaN\n",
    "\n",
    "for _, row in pixels_df.iterrows():\n",
    "    row['line_diff'], row['sample_diff'] = check_pixel(camera, cub_loc, row['line'], row['sample'])"
   ]
  },
  {
   "cell_type": "code",
   "execution_count": 16,
   "metadata": {},
   "outputs": [
    {
     "data": {
      "text/html": [
       "<div>\n",
       "<style scoped>\n",
       "    .dataframe tbody tr th:only-of-type {\n",
       "        vertical-align: middle;\n",
       "    }\n",
       "\n",
       "    .dataframe tbody tr th {\n",
       "        vertical-align: top;\n",
       "    }\n",
       "\n",
       "    .dataframe thead th {\n",
       "        text-align: right;\n",
       "    }\n",
       "</style>\n",
       "<table border=\"1\" class=\"dataframe\">\n",
       "  <thead>\n",
       "    <tr style=\"text-align: right;\">\n",
       "      <th></th>\n",
       "      <th>line</th>\n",
       "      <th>sample</th>\n",
       "      <th>line_diff</th>\n",
       "      <th>sample_diff</th>\n",
       "    </tr>\n",
       "  </thead>\n",
       "  <tbody>\n",
       "    <tr>\n",
       "      <th>0</th>\n",
       "      <td>1.0</td>\n",
       "      <td>1.0</td>\n",
       "      <td>1.110291</td>\n",
       "      <td>1.579313</td>\n",
       "    </tr>\n",
       "    <tr>\n",
       "      <th>1</th>\n",
       "      <td>1.0</td>\n",
       "      <td>1744.0</td>\n",
       "      <td>1.110945</td>\n",
       "      <td>1.492453</td>\n",
       "    </tr>\n",
       "    <tr>\n",
       "      <th>2</th>\n",
       "      <td>4656.0</td>\n",
       "      <td>1.0</td>\n",
       "      <td>-1.048140</td>\n",
       "      <td>1.599806</td>\n",
       "    </tr>\n",
       "    <tr>\n",
       "      <th>3</th>\n",
       "      <td>4656.0</td>\n",
       "      <td>1744.0</td>\n",
       "      <td>-1.047574</td>\n",
       "      <td>1.463186</td>\n",
       "    </tr>\n",
       "    <tr>\n",
       "      <th>4</th>\n",
       "      <td>2328.0</td>\n",
       "      <td>872.0</td>\n",
       "      <td>-1.042982</td>\n",
       "      <td>1.532304</td>\n",
       "    </tr>\n",
       "  </tbody>\n",
       "</table>\n",
       "</div>"
      ],
      "text/plain": [
       "     line  sample  line_diff  sample_diff\n",
       "0     1.0     1.0   1.110291     1.579313\n",
       "1     1.0  1744.0   1.110945     1.492453\n",
       "2  4656.0     1.0  -1.048140     1.599806\n",
       "3  4656.0  1744.0  -1.047574     1.463186\n",
       "4  2328.0   872.0  -1.042982     1.532304"
      ]
     },
     "execution_count": 16,
     "metadata": {},
     "output_type": "execute_result"
    }
   ],
   "source": [
    "pixels_df"
   ]
  },
  {
   "cell_type": "code",
   "execution_count": null,
   "metadata": {},
   "outputs": [],
   "source": []
  }
 ],
 "metadata": {
  "kernelspec": {
   "display_name": "Python 3",
   "language": "python",
   "name": "python3"
  },
  "language_info": {
   "codemirror_mode": {
    "name": "ipython",
    "version": 3
   },
   "file_extension": ".py",
   "mimetype": "text/x-python",
   "name": "python",
   "nbconvert_exporter": "python",
   "pygments_lexer": "ipython3",
   "version": "3.7.3"
  }
 },
 "nbformat": 4,
 "nbformat_minor": 2
}
